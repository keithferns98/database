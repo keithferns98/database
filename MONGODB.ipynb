{
 "cells": [
  {
   "cell_type": "code",
   "execution_count": 1,
   "id": "d4e00da8",
   "metadata": {},
   "outputs": [
    {
     "name": "stdout",
     "output_type": "stream",
     "text": [
      "Requirement already satisfied: pymongo in c:\\users\\keith\\anaconda3\\envs\\ml_models\\lib\\site-packages (3.12.0)\n"
     ]
    }
   ],
   "source": [
    "!pip install pymongo\n"
   ]
  },
  {
   "cell_type": "code",
   "execution_count": 2,
   "id": "2b050ae5",
   "metadata": {},
   "outputs": [],
   "source": [
    "import pymongo"
   ]
  },
  {
   "cell_type": "code",
   "execution_count": 3,
   "id": "548094f2",
   "metadata": {},
   "outputs": [],
   "source": [
    "dbConn=pymongo.MongoClient('mongodb://localhost:27017/')"
   ]
  },
  {
   "cell_type": "code",
   "execution_count": 4,
   "id": "e2e78dd2",
   "metadata": {},
   "outputs": [],
   "source": [
    "dbname='kf'\n",
    "db=dbConn[dbname]"
   ]
  },
  {
   "cell_type": "code",
   "execution_count": 5,
   "id": "6ab1060f",
   "metadata": {},
   "outputs": [
    {
     "name": "stdout",
     "output_type": "stream",
     "text": [
      "['admin', 'config', 'kf', 'local']\n"
     ]
    }
   ],
   "source": [
    "print(dbConn.list_database_names())"
   ]
  },
  {
   "cell_type": "code",
   "execution_count": 6,
   "id": "30af8bb1",
   "metadata": {},
   "outputs": [
    {
     "name": "stdout",
     "output_type": "stream",
     "text": [
      "['admin', 'config', 'kf', 'local']\n",
      "It exist\n"
     ]
    }
   ],
   "source": [
    "dblist=dbConn.list_database_names()\n",
    "print(dblist)\n",
    "\n",
    "if dbname in dblist:\n",
    "    print('It exist')\n",
    "else:\n",
    "    print('It doesnt exist')"
   ]
  },
  {
   "cell_type": "code",
   "execution_count": 7,
   "id": "91ea9a7c",
   "metadata": {},
   "outputs": [],
   "source": [
    "collection_name='admission_data'\n",
    "collections=db[collection_name]"
   ]
  },
  {
   "cell_type": "code",
   "execution_count": 8,
   "id": "196c3daa",
   "metadata": {},
   "outputs": [
    {
     "name": "stdout",
     "output_type": "stream",
     "text": [
      "present\n"
     ]
    }
   ],
   "source": [
    "col='admission_name'\n",
    "if collection_name in db.list_collection_names():\n",
    "    print('present')\n",
    "else:\n",
    "    print('does not exist')"
   ]
  },
  {
   "cell_type": "code",
   "execution_count": 9,
   "id": "6e4c9566",
   "metadata": {},
   "outputs": [],
   "source": [
    "my_row={\n",
    "    'Serial No':'998',\n",
    "    'GRE Score':'337',\n",
    "    'TOEFL Score':'118',\n",
    "    'University Rating':'4',\n",
    "    'SOP':'4.5',\n",
    "    'LOR':'4.5',\n",
    "    'CGPA':'9.65',\n",
    "    'Research':'1',\n",
    "    'Chance of Admit':'0.92'\n",
    "}"
   ]
  },
  {
   "cell_type": "code",
   "execution_count": 11,
   "id": "fb4b7f6a",
   "metadata": {},
   "outputs": [],
   "source": [
    "x=collections.insert_one(my_row)"
   ]
  },
  {
   "cell_type": "code",
   "execution_count": 12,
   "id": "2340a877",
   "metadata": {},
   "outputs": [
    {
     "name": "stdout",
     "output_type": "stream",
     "text": [
      "614047f30b45039253dfb95a\n"
     ]
    }
   ],
   "source": [
    "print(x.inserted_id)"
   ]
  },
  {
   "cell_type": "code",
   "execution_count": 13,
   "id": "19ec74ba",
   "metadata": {},
   "outputs": [],
   "source": [
    "my_rows = [\n",
    "    {'Serial No': '9997',\n",
    "    'GRE Score': '337',\n",
    "    'TOEFL Score': '118',\n",
    "    'University Rating': '4',\n",
    "    'SOP': '4.5',\n",
    "    'LOR': '4.5',\n",
    "    'CGPA': '9.65',\n",
    "    'Research': '1',\n",
    "    'Chance of Admit': '0.92'},\n",
    "    {\n",
    "    'Serial No': '9996',\n",
    "    'GRE Score': '336',\n",
    "    'TOEFL Score': '118',\n",
    "    'University Rating': '4',\n",
    "    'SOP': '4.5',\n",
    "    'LOR': '4.5',\n",
    "    'CGPA': '9.6',\n",
    "    'Research': '0',\n",
    "    'Chance of Admit': '0.92'},\n",
    "     {\n",
    "    'Serial No': '9995',\n",
    "    'GRE Score': '337',\n",
    "    'TOEFL Score': '118',\n",
    "    'University Rating': '4',\n",
    "    'SOP': '4.5',\n",
    "    'LOR': '4.5',\n",
    "    'CGPA': '9.5',\n",
    "    'Research': '1',\n",
    "    'Chance of Admit': '0.92'},\n",
    "    {\n",
    "    'Serial No': '9994',\n",
    "    'GRE Score': '334',\n",
    "    'TOEFL Score': '119',\n",
    "    'University Rating': '4',\n",
    "    'SOP': '4.5',\n",
    "    'LOR': '4.5',\n",
    "    'CGPA': '9.4',\n",
    "    'Research': '1',\n",
    "    'Chance of Admit': '0.92'},\n",
    "    {\n",
    "    'Serial No': '9993',\n",
    "    'GRE Score': '337',\n",
    "    'TOEFL Score': '118',\n",
    "    'University Rating': '4',\n",
    "    'SOP': '4.5',\n",
    "    'LOR': '4.5',\n",
    "    'CGPA': '9.65',\n",
    "    'Research': '1',\n",
    "    'Chance of Admit': '0.92'}\n",
    "    \n",
    "    ]"
   ]
  },
  {
   "cell_type": "code",
   "execution_count": 16,
   "id": "6c9e446d",
   "metadata": {},
   "outputs": [],
   "source": [
    "x=collections.insert_many(my_rows)"
   ]
  },
  {
   "cell_type": "code",
   "execution_count": 17,
   "id": "d461b055",
   "metadata": {},
   "outputs": [
    {
     "name": "stdout",
     "output_type": "stream",
     "text": [
      "[ObjectId('614047fd0b45039253dfb95b'), ObjectId('614047fd0b45039253dfb95c'), ObjectId('614047fd0b45039253dfb95d'), ObjectId('614047fd0b45039253dfb95e'), ObjectId('614047fd0b45039253dfb95f')]\n"
     ]
    }
   ],
   "source": [
    "print(x.inserted_ids)"
   ]
  },
  {
   "cell_type": "code",
   "execution_count": 18,
   "id": "74512ebf",
   "metadata": {},
   "outputs": [
    {
     "data": {
      "text/plain": [
       "{'_id': ObjectId('613f98af259aecebe0b10a46'),\n",
       " 'Serial No': '4',\n",
       " 'GRE Score': '322',\n",
       " 'TOEFL Score': '110',\n",
       " 'University Rating': '3',\n",
       " 'SOP': '3.5',\n",
       " 'LOR': '2.5',\n",
       " 'CGPA': '8.67',\n",
       " 'Research': '1',\n",
       " 'Chance of Admit': '0.8'}"
      ]
     },
     "execution_count": 18,
     "metadata": {},
     "output_type": "execute_result"
    }
   ],
   "source": [
    "result=collections.find({})\n",
    "result[3]"
   ]
  },
  {
   "cell_type": "code",
   "execution_count": 19,
   "id": "b02978bb",
   "metadata": {},
   "outputs": [
    {
     "data": {
      "text/plain": [
       "Collection(Database(MongoClient(host=['localhost:27017'], document_class=dict, tz_aware=False, connect=True), 'kf'), 'admission_data')"
      ]
     },
     "execution_count": 19,
     "metadata": {},
     "output_type": "execute_result"
    }
   ],
   "source": [
    "collections"
   ]
  },
  {
   "cell_type": "code",
   "execution_count": 20,
   "id": "8350245b",
   "metadata": {},
   "outputs": [
    {
     "name": "stdout",
     "output_type": "stream",
     "text": [
      "{'_id': ObjectId('613f98af259aecebe0b10a43'), 'Serial No': '1', 'GRE Score': '337', 'TOEFL Score': '118', 'University Rating': '4', 'SOP': '4.5', 'LOR': '4.5', 'CGPA': '9.65', 'Research': '1', 'Chance of Admit': '0.92'}\n",
      "{'_id': ObjectId('613f98af259aecebe0b10a44'), 'Serial No': '2', 'GRE Score': '324', 'TOEFL Score': '107', 'University Rating': '4', 'SOP': '4', 'LOR': '4.5', 'CGPA': '8.87', 'Research': '1', 'Chance of Admit': '0.76'}\n",
      "{'_id': ObjectId('613f98af259aecebe0b10a45'), 'Serial No': '3', 'TOEFL Score': '104', 'University Rating': '3', 'SOP': '3', 'LOR': '3.5', 'CGPA': '8', 'Research': '1', 'Chance of Admit': '0.72'}\n",
      "{'_id': ObjectId('613f98af259aecebe0b10a46'), 'Serial No': '4', 'GRE Score': '322', 'TOEFL Score': '110', 'University Rating': '3', 'SOP': '3.5', 'LOR': '2.5', 'CGPA': '8.67', 'Research': '1', 'Chance of Admit': '0.8'}\n",
      "{'_id': ObjectId('613f98af259aecebe0b10a47'), 'Serial No': '5', 'GRE Score': '314', 'TOEFL Score': '103', 'University Rating': '2', 'SOP': '2', 'LOR': '3', 'CGPA': '8.21', 'Research': '0', 'Chance of Admit': '0.65'}\n"
     ]
    }
   ],
   "source": [
    "result_tot=collections.find({}).limit(5)\n",
    "for i in result_tot:\n",
    "    print(i)"
   ]
  },
  {
   "cell_type": "code",
   "execution_count": 21,
   "id": "77e42dbf",
   "metadata": {},
   "outputs": [
    {
     "name": "stdout",
     "output_type": "stream",
     "text": [
      "{'_id': ObjectId('613f98af259aecebe0b10a43'), 'GRE Score': '337', 'TOEFL Score': '118'}\n",
      "{'_id': ObjectId('613f98af259aecebe0b10a44'), 'GRE Score': '324', 'TOEFL Score': '107'}\n",
      "{'_id': ObjectId('613f98af259aecebe0b10a45'), 'TOEFL Score': '104'}\n",
      "{'_id': ObjectId('613f98af259aecebe0b10a46'), 'GRE Score': '322', 'TOEFL Score': '110'}\n",
      "{'_id': ObjectId('613f98af259aecebe0b10a47'), 'GRE Score': '314', 'TOEFL Score': '103'}\n",
      "{'_id': ObjectId('613f98af259aecebe0b10a48'), 'GRE Score': '330', 'TOEFL Score': '115'}\n",
      "{'_id': ObjectId('613f98af259aecebe0b10a49'), 'GRE Score': '321', 'TOEFL Score': '109'}\n",
      "{'_id': ObjectId('613f98af259aecebe0b10a4a'), 'GRE Score': '308', 'TOEFL Score': '101'}\n",
      "{'_id': ObjectId('613f98af259aecebe0b10a4b'), 'GRE Score': '302', 'TOEFL Score': '102'}\n",
      "{'_id': ObjectId('613f98af259aecebe0b10a4c'), 'GRE Score': '323', 'TOEFL Score': '108'}\n",
      "{'_id': ObjectId('613f98af259aecebe0b10a4d'), 'GRE Score': '325', 'TOEFL Score': '106'}\n",
      "{'_id': ObjectId('613f98af259aecebe0b10a4e'), 'GRE Score': '327', 'TOEFL Score': '111'}\n",
      "{'_id': ObjectId('613f98af259aecebe0b10a4f'), 'TOEFL Score': '112'}\n",
      "{'_id': ObjectId('613f98af259aecebe0b10a50'), 'GRE Score': '307', 'TOEFL Score': '109'}\n",
      "{'_id': ObjectId('613f98af259aecebe0b10a51'), 'GRE Score': '311', 'TOEFL Score': '104'}\n",
      "{'_id': ObjectId('613f98af259aecebe0b10a52'), 'GRE Score': '314', 'TOEFL Score': '105'}\n",
      "{'_id': ObjectId('613f98af259aecebe0b10a53'), 'GRE Score': '317', 'TOEFL Score': '107'}\n",
      "{'_id': ObjectId('613f98af259aecebe0b10a54'), 'GRE Score': '319', 'TOEFL Score': '106'}\n",
      "{'_id': ObjectId('613f98af259aecebe0b10a55'), 'GRE Score': '318', 'TOEFL Score': '110'}\n",
      "{'_id': ObjectId('613f98af259aecebe0b10a56'), 'GRE Score': '303', 'TOEFL Score': '102'}\n",
      "{'_id': ObjectId('613f98af259aecebe0b10a57'), 'GRE Score': '312', 'TOEFL Score': '107'}\n",
      "{'_id': ObjectId('613f98af259aecebe0b10a58'), 'GRE Score': '325', 'TOEFL Score': '114'}\n",
      "{'_id': ObjectId('613f98af259aecebe0b10a59'), 'GRE Score': '328', 'TOEFL Score': '116'}\n",
      "{'_id': ObjectId('613f98af259aecebe0b10a5a'), 'TOEFL Score': '119'}\n",
      "{'_id': ObjectId('613f98af259aecebe0b10a5b'), 'GRE Score': '336', 'TOEFL Score': '119'}\n",
      "{'_id': ObjectId('613f98af259aecebe0b10a5c'), 'GRE Score': '340', 'TOEFL Score': '120'}\n",
      "{'_id': ObjectId('613f98af259aecebe0b10a5d'), 'GRE Score': '322', 'TOEFL Score': '109'}\n",
      "{'_id': ObjectId('613f98af259aecebe0b10a5e'), 'GRE Score': '298', 'TOEFL Score': '98'}\n",
      "{'_id': ObjectId('613f98af259aecebe0b10a5f'), 'GRE Score': '295', 'TOEFL Score': '93'}\n",
      "{'_id': ObjectId('613f98af259aecebe0b10a60'), 'GRE Score': '310', 'TOEFL Score': '99'}\n",
      "{'_id': ObjectId('613f98af259aecebe0b10a61'), 'GRE Score': '300', 'TOEFL Score': '97'}\n",
      "{'_id': ObjectId('613f98af259aecebe0b10a62'), 'GRE Score': '327', 'TOEFL Score': '103'}\n",
      "{'_id': ObjectId('613f98af259aecebe0b10a63'), 'GRE Score': '338', 'TOEFL Score': '118'}\n",
      "{'_id': ObjectId('613f98af259aecebe0b10a64'), 'GRE Score': '340', 'TOEFL Score': '114'}\n",
      "{'_id': ObjectId('613f98af259aecebe0b10a65'), 'GRE Score': '331', 'TOEFL Score': '112'}\n",
      "{'_id': ObjectId('613f98af259aecebe0b10a66'), 'GRE Score': '320', 'TOEFL Score': '110'}\n",
      "{'_id': ObjectId('613f98af259aecebe0b10a67'), 'TOEFL Score': '106'}\n",
      "{'_id': ObjectId('613f98af259aecebe0b10a68'), 'GRE Score': '300', 'TOEFL Score': '105'}\n",
      "{'_id': ObjectId('613f98af259aecebe0b10a69'), 'GRE Score': '304', 'TOEFL Score': '105'}\n",
      "{'_id': ObjectId('613f98af259aecebe0b10a6a'), 'GRE Score': '307', 'TOEFL Score': '108'}\n",
      "{'_id': ObjectId('613f98af259aecebe0b10a6b'), 'GRE Score': '308', 'TOEFL Score': '110'}\n",
      "{'_id': ObjectId('613f98af259aecebe0b10a6c'), 'GRE Score': '316', 'TOEFL Score': '105'}\n",
      "{'_id': ObjectId('613f98af259aecebe0b10a6d'), 'GRE Score': '313', 'TOEFL Score': '107'}\n",
      "{'_id': ObjectId('613f98af259aecebe0b10a6e'), 'GRE Score': '332', 'TOEFL Score': '117'}\n",
      "{'_id': ObjectId('613f98af259aecebe0b10a6f'), 'GRE Score': '326', 'TOEFL Score': '113'}\n",
      "{'_id': ObjectId('613f98af259aecebe0b10a70'), 'GRE Score': '322', 'TOEFL Score': '110'}\n",
      "{'_id': ObjectId('613f98af259aecebe0b10a71'), 'GRE Score': '329', 'TOEFL Score': '114'}\n",
      "{'_id': ObjectId('613f98af259aecebe0b10a72'), 'GRE Score': '339', 'TOEFL Score': '119'}\n",
      "{'_id': ObjectId('613f98af259aecebe0b10a73'), 'GRE Score': '321', 'TOEFL Score': '110'}\n",
      "{'_id': ObjectId('613f98af259aecebe0b10a74'), 'GRE Score': '327', 'TOEFL Score': '111'}\n",
      "{'_id': ObjectId('613f98af259aecebe0b10a75'), 'GRE Score': '313', 'TOEFL Score': '98'}\n",
      "{'_id': ObjectId('613f98af259aecebe0b10a76'), 'TOEFL Score': '100'}\n",
      "{'_id': ObjectId('613f98af259aecebe0b10a77'), 'GRE Score': '334', 'TOEFL Score': '116'}\n",
      "{'_id': ObjectId('613f98af259aecebe0b10a78'), 'GRE Score': '324', 'TOEFL Score': '112'}\n",
      "{'_id': ObjectId('613f98af259aecebe0b10a79'), 'GRE Score': '322', 'TOEFL Score': '110'}\n",
      "{'_id': ObjectId('613f98af259aecebe0b10a7a'), 'GRE Score': '320', 'TOEFL Score': '103'}\n",
      "{'_id': ObjectId('613f98af259aecebe0b10a7b'), 'GRE Score': '316', 'TOEFL Score': '102'}\n",
      "{'_id': ObjectId('613f98af259aecebe0b10a7c'), 'GRE Score': '298'}\n",
      "{'_id': ObjectId('613f98af259aecebe0b10a7d'), 'GRE Score': '300', 'TOEFL Score': '99'}\n",
      "{'_id': ObjectId('613f98af259aecebe0b10a7e'), 'GRE Score': '311', 'TOEFL Score': '104'}\n",
      "{'_id': ObjectId('613f98af259aecebe0b10a7f'), 'GRE Score': '309', 'TOEFL Score': '100'}\n",
      "{'_id': ObjectId('613f98af259aecebe0b10a80'), 'GRE Score': '307', 'TOEFL Score': '101'}\n",
      "{'_id': ObjectId('613f98af259aecebe0b10a81'), 'GRE Score': '304', 'TOEFL Score': '105'}\n",
      "{'_id': ObjectId('613f98af259aecebe0b10a82'), 'GRE Score': '315', 'TOEFL Score': '107'}\n",
      "{'_id': ObjectId('613f98af259aecebe0b10a83'), 'GRE Score': '325', 'TOEFL Score': '111'}\n",
      "{'_id': ObjectId('613f98af259aecebe0b10a84'), 'GRE Score': '325', 'TOEFL Score': '112'}\n",
      "{'_id': ObjectId('613f98af259aecebe0b10a85'), 'GRE Score': '327', 'TOEFL Score': '114'}\n",
      "{'_id': ObjectId('613f98af259aecebe0b10a86'), 'GRE Score': '316', 'TOEFL Score': '107'}\n",
      "{'_id': ObjectId('613f98af259aecebe0b10a87'), 'GRE Score': '318', 'TOEFL Score': '109'}\n",
      "{'_id': ObjectId('613f98af259aecebe0b10a88'), 'GRE Score': '328', 'TOEFL Score': '115'}\n",
      "{'_id': ObjectId('613f98af259aecebe0b10a89'), 'TOEFL Score': '118'}\n",
      "{'_id': ObjectId('613f98af259aecebe0b10a8a'), 'GRE Score': '336', 'TOEFL Score': '112'}\n",
      "{'_id': ObjectId('613f98af259aecebe0b10a8b'), 'GRE Score': '321', 'TOEFL Score': '111'}\n",
      "{'_id': ObjectId('613f98af259aecebe0b10a8c'), 'GRE Score': '314', 'TOEFL Score': '108'}\n",
      "{'_id': ObjectId('613f98af259aecebe0b10a8d'), 'GRE Score': '314', 'TOEFL Score': '106'}\n",
      "{'_id': ObjectId('613f98af259aecebe0b10a8e'), 'GRE Score': '329', 'TOEFL Score': '114'}\n",
      "{'_id': ObjectId('613f98af259aecebe0b10a8f'), 'GRE Score': '327', 'TOEFL Score': '112'}\n",
      "{'_id': ObjectId('613f98af259aecebe0b10a90'), 'GRE Score': '301', 'TOEFL Score': '99'}\n",
      "{'_id': ObjectId('613f98af259aecebe0b10a91'), 'GRE Score': '296', 'TOEFL Score': '95'}\n",
      "{'_id': ObjectId('613f98af259aecebe0b10a92'), 'GRE Score': '294', 'TOEFL Score': '93'}\n",
      "{'_id': ObjectId('613f98af259aecebe0b10a93'), 'GRE Score': '312', 'TOEFL Score': '105'}\n",
      "{'_id': ObjectId('613f98af259aecebe0b10a94'), 'GRE Score': '340', 'TOEFL Score': '120'}\n",
      "{'_id': ObjectId('613f98af259aecebe0b10a95'), 'GRE Score': '320', 'TOEFL Score': '110'}\n",
      "{'_id': ObjectId('613f98af259aecebe0b10a96'), 'GRE Score': '322', 'TOEFL Score': '115'}\n",
      "{'_id': ObjectId('613f98af259aecebe0b10a97'), 'GRE Score': '340', 'TOEFL Score': '115'}\n",
      "{'_id': ObjectId('613f98af259aecebe0b10a98'), 'GRE Score': '319', 'TOEFL Score': '103'}\n",
      "{'_id': ObjectId('613f98af259aecebe0b10a99'), 'GRE Score': '315', 'TOEFL Score': '106'}\n",
      "{'_id': ObjectId('613f98af259aecebe0b10a9a'), 'GRE Score': '317', 'TOEFL Score': '107'}\n",
      "{'_id': ObjectId('613f98af259aecebe0b10a9b'), 'GRE Score': '314', 'TOEFL Score': '108'}\n",
      "{'_id': ObjectId('613f98af259aecebe0b10a9c'), 'GRE Score': '316', 'TOEFL Score': '109'}\n",
      "{'_id': ObjectId('613f98af259aecebe0b10a9d'), 'GRE Score': '318', 'TOEFL Score': '106'}\n",
      "{'_id': ObjectId('613f98af259aecebe0b10a9e'), 'GRE Score': '299', 'TOEFL Score': '97'}\n",
      "{'_id': ObjectId('613f98af259aecebe0b10a9f'), 'GRE Score': '298', 'TOEFL Score': '98'}\n",
      "{'_id': ObjectId('613f98af259aecebe0b10aa0'), 'GRE Score': '301', 'TOEFL Score': '97'}\n",
      "{'_id': ObjectId('613f98af259aecebe0b10aa1'), 'GRE Score': '303', 'TOEFL Score': '99'}\n",
      "{'_id': ObjectId('613f98af259aecebe0b10aa2'), 'GRE Score': '304', 'TOEFL Score': '100'}\n",
      "{'_id': ObjectId('613f98af259aecebe0b10aa3'), 'GRE Score': '306', 'TOEFL Score': '100'}\n",
      "{'_id': ObjectId('613f98af259aecebe0b10aa4'), 'GRE Score': '331', 'TOEFL Score': '120'}\n",
      "{'_id': ObjectId('613f98af259aecebe0b10aa5'), 'GRE Score': '332', 'TOEFL Score': '119'}\n",
      "{'_id': ObjectId('613f98af259aecebe0b10aa6'), 'GRE Score': '323'}\n",
      "{'_id': ObjectId('613f98af259aecebe0b10aa7'), 'GRE Score': '322', 'TOEFL Score': '107'}\n",
      "{'_id': ObjectId('613f98af259aecebe0b10aa8'), 'GRE Score': '312', 'TOEFL Score': '105'}\n",
      "{'_id': ObjectId('613f98af259aecebe0b10aa9'), 'GRE Score': '314', 'TOEFL Score': '106'}\n",
      "{'_id': ObjectId('613f98af259aecebe0b10aaa'), 'GRE Score': '317', 'TOEFL Score': '104'}\n",
      "{'_id': ObjectId('613f98af259aecebe0b10aab'), 'GRE Score': '326', 'TOEFL Score': '112'}\n",
      "{'_id': ObjectId('613f98af259aecebe0b10aac'), 'GRE Score': '316', 'TOEFL Score': '110'}\n",
      "{'_id': ObjectId('613f98af259aecebe0b10aad'), 'GRE Score': '329', 'TOEFL Score': '111'}\n",
      "{'_id': ObjectId('613f98af259aecebe0b10aae'), 'GRE Score': '338', 'TOEFL Score': '117'}\n",
      "{'_id': ObjectId('613f98af259aecebe0b10aaf'), 'GRE Score': '331', 'TOEFL Score': '116'}\n",
      "{'_id': ObjectId('613f98af259aecebe0b10ab0'), 'GRE Score': '304', 'TOEFL Score': '103'}\n",
      "{'_id': ObjectId('613f98af259aecebe0b10ab1'), 'GRE Score': '305', 'TOEFL Score': '108'}\n",
      "{'_id': ObjectId('613f98af259aecebe0b10ab2'), 'GRE Score': '321', 'TOEFL Score': '109'}\n",
      "{'_id': ObjectId('613f98af259aecebe0b10ab3'), 'GRE Score': '301', 'TOEFL Score': '107'}\n",
      "{'_id': ObjectId('613f98af259aecebe0b10ab4'), 'GRE Score': '320', 'TOEFL Score': '110'}\n",
      "{'_id': ObjectId('613f98af259aecebe0b10ab5'), 'GRE Score': '311', 'TOEFL Score': '105'}\n",
      "{'_id': ObjectId('613f98af259aecebe0b10ab6'), 'GRE Score': '310', 'TOEFL Score': '106'}\n",
      "{'_id': ObjectId('613f98af259aecebe0b10ab7'), 'GRE Score': '299', 'TOEFL Score': '102'}\n",
      "{'_id': ObjectId('613f98af259aecebe0b10ab8'), 'GRE Score': '290', 'TOEFL Score': '104'}\n",
      "{'_id': ObjectId('613f98af259aecebe0b10ab9'), 'GRE Score': '296', 'TOEFL Score': '99'}\n",
      "{'_id': ObjectId('613f98af259aecebe0b10aba'), 'GRE Score': '327', 'TOEFL Score': '104'}\n",
      "{'_id': ObjectId('613f98af259aecebe0b10abb'), 'GRE Score': '335', 'TOEFL Score': '117'}\n",
      "{'_id': ObjectId('613f98af259aecebe0b10abc'), 'GRE Score': '334', 'TOEFL Score': '119'}\n",
      "{'_id': ObjectId('613f98af259aecebe0b10abd'), 'GRE Score': '310', 'TOEFL Score': '106'}\n",
      "{'_id': ObjectId('613f98af259aecebe0b10abe'), 'GRE Score': '308', 'TOEFL Score': '108'}\n",
      "{'_id': ObjectId('613f98af259aecebe0b10abf'), 'TOEFL Score': '106'}\n",
      "{'_id': ObjectId('613f98af259aecebe0b10ac0'), 'GRE Score': '300', 'TOEFL Score': '100'}\n",
      "{'_id': ObjectId('613f98af259aecebe0b10ac1'), 'GRE Score': '323', 'TOEFL Score': '113'}\n",
      "{'_id': ObjectId('613f98af259aecebe0b10ac2'), 'GRE Score': '319', 'TOEFL Score': '112'}\n",
      "{'_id': ObjectId('613f98af259aecebe0b10ac3'), 'GRE Score': '326', 'TOEFL Score': '112'}\n",
      "{'_id': ObjectId('613f98af259aecebe0b10ac4'), 'GRE Score': '333', 'TOEFL Score': '118'}\n",
      "{'_id': ObjectId('613f98af259aecebe0b10ac5'), 'GRE Score': '339', 'TOEFL Score': '114'}\n",
      "{'_id': ObjectId('613f98af259aecebe0b10ac6'), 'GRE Score': '303', 'TOEFL Score': '105'}\n",
      "{'_id': ObjectId('613f98af259aecebe0b10ac7'), 'GRE Score': '309', 'TOEFL Score': '105'}\n",
      "{'_id': ObjectId('613f98af259aecebe0b10ac8'), 'GRE Score': '323', 'TOEFL Score': '112'}\n",
      "{'_id': ObjectId('613f98af259aecebe0b10ac9'), 'GRE Score': '333', 'TOEFL Score': '113'}\n",
      "{'_id': ObjectId('613f98af259aecebe0b10aca'), 'GRE Score': '314'}\n",
      "{'_id': ObjectId('613f98af259aecebe0b10acb'), 'GRE Score': '312', 'TOEFL Score': '103'}\n",
      "{'_id': ObjectId('613f98af259aecebe0b10acc'), 'GRE Score': '316', 'TOEFL Score': '100'}\n",
      "{'_id': ObjectId('613f98af259aecebe0b10acd'), 'GRE Score': '326', 'TOEFL Score': '116'}\n",
      "{'_id': ObjectId('613f98af259aecebe0b10ace'), 'GRE Score': '318', 'TOEFL Score': '109'}\n",
      "{'_id': ObjectId('613f98af259aecebe0b10acf'), 'GRE Score': '329', 'TOEFL Score': '110'}\n",
      "{'_id': ObjectId('613f98af259aecebe0b10ad0'), 'GRE Score': '332', 'TOEFL Score': '118'}\n",
      "{'_id': ObjectId('613f98af259aecebe0b10ad1'), 'GRE Score': '331', 'TOEFL Score': '115'}\n",
      "{'_id': ObjectId('613f98af259aecebe0b10ad2'), 'GRE Score': '340', 'TOEFL Score': '120'}\n",
      "{'_id': ObjectId('613f98af259aecebe0b10ad3'), 'GRE Score': '325', 'TOEFL Score': '112'}\n",
      "{'_id': ObjectId('613f98af259aecebe0b10ad4'), 'GRE Score': '320', 'TOEFL Score': '113'}\n",
      "{'_id': ObjectId('613f98af259aecebe0b10ad5'), 'GRE Score': '315', 'TOEFL Score': '105'}\n",
      "{'_id': ObjectId('613f98af259aecebe0b10ad6'), 'GRE Score': '326', 'TOEFL Score': '114'}\n",
      "{'_id': ObjectId('613f98af259aecebe0b10ad7'), 'GRE Score': '339', 'TOEFL Score': '116'}\n",
      "{'_id': ObjectId('613f98af259aecebe0b10ad8'), 'GRE Score': '311', 'TOEFL Score': '106'}\n",
      "{'_id': ObjectId('613f98af259aecebe0b10ad9'), 'GRE Score': '334', 'TOEFL Score': '114'}\n",
      "{'_id': ObjectId('613f98af259aecebe0b10ada'), 'GRE Score': '332', 'TOEFL Score': '116'}\n",
      "{'_id': ObjectId('613f98af259aecebe0b10adb'), 'GRE Score': '321', 'TOEFL Score': '112'}\n",
      "{'_id': ObjectId('613f98af259aecebe0b10adc'), 'GRE Score': '324', 'TOEFL Score': '105'}\n",
      "{'_id': ObjectId('613f98af259aecebe0b10add'), 'GRE Score': '326', 'TOEFL Score': '108'}\n",
      "{'_id': ObjectId('613f98af259aecebe0b10ade'), 'TOEFL Score': '109'}\n",
      "{'_id': ObjectId('613f98af259aecebe0b10adf'), 'GRE Score': '315', 'TOEFL Score': '105'}\n",
      "{'_id': ObjectId('613f98af259aecebe0b10ae0'), 'GRE Score': '309', 'TOEFL Score': '104'}\n",
      "{'_id': ObjectId('613f98af259aecebe0b10ae1'), 'GRE Score': '306', 'TOEFL Score': '106'}\n",
      "{'_id': ObjectId('613f98af259aecebe0b10ae2'), 'GRE Score': '297', 'TOEFL Score': '100'}\n",
      "{'_id': ObjectId('613f98af259aecebe0b10ae3'), 'GRE Score': '315', 'TOEFL Score': '103'}\n",
      "{'_id': ObjectId('613f98af259aecebe0b10ae4'), 'GRE Score': '298', 'TOEFL Score': '99'}\n",
      "{'_id': ObjectId('613f98af259aecebe0b10ae5'), 'GRE Score': '318', 'TOEFL Score': '109'}\n",
      "{'_id': ObjectId('613f98af259aecebe0b10ae6'), 'GRE Score': '317', 'TOEFL Score': '105'}\n",
      "{'_id': ObjectId('613f98af259aecebe0b10ae7'), 'GRE Score': '329', 'TOEFL Score': '111'}\n",
      "{'_id': ObjectId('613f98af259aecebe0b10ae8'), 'GRE Score': '322', 'TOEFL Score': '110'}\n",
      "{'_id': ObjectId('613f98af259aecebe0b10ae9'), 'GRE Score': '302', 'TOEFL Score': '102'}\n",
      "{'_id': ObjectId('613f98af259aecebe0b10aea'), 'GRE Score': '313', 'TOEFL Score': '102'}\n",
      "{'_id': ObjectId('613f98af259aecebe0b10aeb'), 'GRE Score': '293', 'TOEFL Score': '97'}\n",
      "{'_id': ObjectId('613f98af259aecebe0b10aec'), 'GRE Score': '311', 'TOEFL Score': '99'}\n",
      "{'_id': ObjectId('613f98af259aecebe0b10aed'), 'GRE Score': '312', 'TOEFL Score': '101'}\n",
      "{'_id': ObjectId('613f98af259aecebe0b10aee'), 'GRE Score': '334', 'TOEFL Score': '117'}\n",
      "{'_id': ObjectId('613f98af259aecebe0b10aef'), 'GRE Score': '322'}\n",
      "{'_id': ObjectId('613f98af259aecebe0b10af0'), 'GRE Score': '323', 'TOEFL Score': '113'}\n",
      "{'_id': ObjectId('613f98af259aecebe0b10af1'), 'GRE Score': '321', 'TOEFL Score': '111'}\n",
      "{'_id': ObjectId('613f98af259aecebe0b10af2'), 'GRE Score': '320', 'TOEFL Score': '111'}\n",
      "{'_id': ObjectId('613f98af259aecebe0b10af3'), 'GRE Score': '329', 'TOEFL Score': '119'}\n",
      "{'_id': ObjectId('613f98af259aecebe0b10af4'), 'GRE Score': '319', 'TOEFL Score': '110'}\n",
      "{'_id': ObjectId('613f98af259aecebe0b10af5'), 'GRE Score': '309', 'TOEFL Score': '108'}\n",
      "{'_id': ObjectId('613f98af259aecebe0b10af6'), 'GRE Score': '307', 'TOEFL Score': '102'}\n",
      "{'_id': ObjectId('613f98af259aecebe0b10af7'), 'GRE Score': '300', 'TOEFL Score': '104'}\n",
      "{'_id': ObjectId('613f98af259aecebe0b10af8'), 'GRE Score': '305', 'TOEFL Score': '107'}\n",
      "{'_id': ObjectId('613f98af259aecebe0b10af9'), 'TOEFL Score': '100'}\n",
      "{'_id': ObjectId('613f98af259aecebe0b10afa'), 'GRE Score': '314', 'TOEFL Score': '110'}\n",
      "{'_id': ObjectId('613f98af259aecebe0b10afb'), 'GRE Score': '316', 'TOEFL Score': '106'}\n",
      "{'_id': ObjectId('613f98af259aecebe0b10afc'), 'GRE Score': '327', 'TOEFL Score': '113'}\n",
      "{'_id': ObjectId('613f98af259aecebe0b10afd'), 'GRE Score': '317', 'TOEFL Score': '107'}\n",
      "{'_id': ObjectId('613f98af259aecebe0b10afe'), 'GRE Score': '335', 'TOEFL Score': '118'}\n",
      "{'_id': ObjectId('613f98af259aecebe0b10aff'), 'GRE Score': '331', 'TOEFL Score': '115'}\n",
      "{'_id': ObjectId('613f98af259aecebe0b10b00'), 'GRE Score': '324', 'TOEFL Score': '112'}\n",
      "{'_id': ObjectId('613f98af259aecebe0b10b01'), 'GRE Score': '324', 'TOEFL Score': '111'}\n",
      "{'_id': ObjectId('613f98af259aecebe0b10b02'), 'GRE Score': '323', 'TOEFL Score': '110'}\n",
      "{'_id': ObjectId('613f98af259aecebe0b10b03'), 'GRE Score': '322', 'TOEFL Score': '114'}\n",
      "{'_id': ObjectId('613f98af259aecebe0b10b04'), 'GRE Score': '336', 'TOEFL Score': '118'}\n",
      "{'_id': ObjectId('613f98af259aecebe0b10b05'), 'GRE Score': '316', 'TOEFL Score': '109'}\n",
      "{'_id': ObjectId('613f98af259aecebe0b10b06'), 'GRE Score': '307', 'TOEFL Score': '107'}\n",
      "{'_id': ObjectId('613f98af259aecebe0b10b07'), 'GRE Score': '306', 'TOEFL Score': '105'}\n",
      "{'_id': ObjectId('613f98af259aecebe0b10b08'), 'GRE Score': '310', 'TOEFL Score': '106'}\n",
      "{'_id': ObjectId('613f98af259aecebe0b10b09'), 'GRE Score': '311', 'TOEFL Score': '104'}\n",
      "{'_id': ObjectId('613f98af259aecebe0b10b0a'), 'GRE Score': '313', 'TOEFL Score': '107'}\n",
      "{'_id': ObjectId('613f98af259aecebe0b10b0b'), 'GRE Score': '317', 'TOEFL Score': '103'}\n",
      "{'_id': ObjectId('613f98af259aecebe0b10b0c'), 'GRE Score': '315', 'TOEFL Score': '110'}\n",
      "{'_id': ObjectId('613f98af259aecebe0b10b0d'), 'GRE Score': '340', 'TOEFL Score': '120'}\n",
      "{'_id': ObjectId('613f98af259aecebe0b10b0e'), 'GRE Score': '334', 'TOEFL Score': '120'}\n",
      "{'_id': ObjectId('613f98af259aecebe0b10b0f'), 'GRE Score': '298', 'TOEFL Score': '105'}\n",
      "{'_id': ObjectId('613f98af259aecebe0b10b10'), 'GRE Score': '295', 'TOEFL Score': '99'}\n",
      "{'_id': ObjectId('613f98af259aecebe0b10b11'), 'GRE Score': '315', 'TOEFL Score': '99'}\n",
      "{'_id': ObjectId('613f98af259aecebe0b10b12'), 'GRE Score': '310', 'TOEFL Score': '102'}\n",
      "{'_id': ObjectId('613f98af259aecebe0b10b13'), 'GRE Score': '305', 'TOEFL Score': '106'}\n",
      "{'_id': ObjectId('613f98af259aecebe0b10b14'), 'GRE Score': '301', 'TOEFL Score': '104'}\n",
      "{'_id': ObjectId('613f98af259aecebe0b10b15'), 'GRE Score': '325', 'TOEFL Score': '108'}\n",
      "{'_id': ObjectId('613f98af259aecebe0b10b16'), 'GRE Score': '328', 'TOEFL Score': '110'}\n",
      "{'_id': ObjectId('613f98af259aecebe0b10b17'), 'GRE Score': '338', 'TOEFL Score': '120'}\n",
      "{'_id': ObjectId('613f98af259aecebe0b10b18'), 'GRE Score': '333', 'TOEFL Score': '119'}\n",
      "{'_id': ObjectId('613f98af259aecebe0b10b19'), 'GRE Score': '331', 'TOEFL Score': '117'}\n",
      "{'_id': ObjectId('613f98af259aecebe0b10b1a'), 'GRE Score': '330', 'TOEFL Score': '116'}\n",
      "{'_id': ObjectId('613f98af259aecebe0b10b1b'), 'GRE Score': '322'}\n",
      "{'_id': ObjectId('613f98af259aecebe0b10b1c'), 'GRE Score': '321', 'TOEFL Score': '109'}\n",
      "{'_id': ObjectId('613f98af259aecebe0b10b1d'), 'TOEFL Score': '110'}\n",
      "{'_id': ObjectId('613f98af259aecebe0b10b1e'), 'GRE Score': '312', 'TOEFL Score': '104'}\n",
      "{'_id': ObjectId('613f98af259aecebe0b10b1f'), 'GRE Score': '313', 'TOEFL Score': '103'}\n",
      "{'_id': ObjectId('613f98af259aecebe0b10b20'), 'GRE Score': '316', 'TOEFL Score': '110'}\n",
      "{'_id': ObjectId('613f98af259aecebe0b10b21'), 'GRE Score': '324', 'TOEFL Score': '113'}\n",
      "{'_id': ObjectId('613f98af259aecebe0b10b22'), 'GRE Score': '308', 'TOEFL Score': '109'}\n",
      "{'_id': ObjectId('613f98af259aecebe0b10b23'), 'GRE Score': '305', 'TOEFL Score': '105'}\n",
      "{'_id': ObjectId('613f98af259aecebe0b10b24'), 'GRE Score': '296', 'TOEFL Score': '99'}\n",
      "{'_id': ObjectId('613f98af259aecebe0b10b25'), 'GRE Score': '306', 'TOEFL Score': '110'}\n",
      "{'_id': ObjectId('613f98af259aecebe0b10b26'), 'GRE Score': '312', 'TOEFL Score': '110'}\n",
      "{'_id': ObjectId('613f98af259aecebe0b10b27'), 'GRE Score': '318', 'TOEFL Score': '112'}\n",
      "{'_id': ObjectId('613f98af259aecebe0b10b28'), 'GRE Score': '324', 'TOEFL Score': '111'}\n",
      "{'_id': ObjectId('613f98af259aecebe0b10b29'), 'GRE Score': '313', 'TOEFL Score': '104'}\n",
      "{'_id': ObjectId('613f98af259aecebe0b10b2a'), 'GRE Score': '319', 'TOEFL Score': '106'}\n",
      "{'_id': ObjectId('613f98af259aecebe0b10b2b'), 'GRE Score': '312', 'TOEFL Score': '107'}\n",
      "{'_id': ObjectId('613f98af259aecebe0b10b2c'), 'GRE Score': '304', 'TOEFL Score': '100'}\n",
      "{'_id': ObjectId('613f98af259aecebe0b10b2d'), 'GRE Score': '330', 'TOEFL Score': '113'}\n",
      "{'_id': ObjectId('613f98af259aecebe0b10b2e'), 'GRE Score': '326', 'TOEFL Score': '111'}\n",
      "{'_id': ObjectId('613f98af259aecebe0b10b2f'), 'GRE Score': '325', 'TOEFL Score': '112'}\n",
      "{'_id': ObjectId('613f98af259aecebe0b10b30'), 'GRE Score': '329', 'TOEFL Score': '114'}\n",
      "{'_id': ObjectId('613f98af259aecebe0b10b31'), 'GRE Score': '310', 'TOEFL Score': '104'}\n",
      "{'_id': ObjectId('613f98af259aecebe0b10b32'), 'GRE Score': '299', 'TOEFL Score': '100'}\n",
      "{'_id': ObjectId('613f98af259aecebe0b10b33'), 'GRE Score': '296', 'TOEFL Score': '101'}\n",
      "{'_id': ObjectId('613f98af259aecebe0b10b34'), 'GRE Score': '317', 'TOEFL Score': '103'}\n",
      "{'_id': ObjectId('613f98af259aecebe0b10b35'), 'GRE Score': '324', 'TOEFL Score': '115'}\n",
      "{'_id': ObjectId('613f98af259aecebe0b10b36'), 'GRE Score': '325', 'TOEFL Score': '114'}\n",
      "{'_id': ObjectId('613f98af259aecebe0b10b37'), 'GRE Score': '314', 'TOEFL Score': '107'}\n",
      "{'_id': ObjectId('613f98af259aecebe0b10b38'), 'GRE Score': '328', 'TOEFL Score': '110'}\n",
      "{'_id': ObjectId('613f98af259aecebe0b10b39'), 'GRE Score': '316', 'TOEFL Score': '105'}\n",
      "{'_id': ObjectId('613f98af259aecebe0b10b3a'), 'GRE Score': '311', 'TOEFL Score': '104'}\n",
      "{'_id': ObjectId('613f98af259aecebe0b10b3b'), 'GRE Score': '324', 'TOEFL Score': '110'}\n",
      "{'_id': ObjectId('613f98af259aecebe0b10b3c'), 'GRE Score': '321', 'TOEFL Score': '111'}\n",
      "{'_id': ObjectId('613f98af259aecebe0b10b3d'), 'GRE Score': '320', 'TOEFL Score': '104'}\n",
      "{'_id': ObjectId('613f98af259aecebe0b10b3e'), 'GRE Score': '316', 'TOEFL Score': '99'}\n",
      "{'_id': ObjectId('613f98af259aecebe0b10b3f'), 'GRE Score': '318', 'TOEFL Score': '100'}\n",
      "{'_id': ObjectId('613f98af259aecebe0b10b40'), 'GRE Score': '335', 'TOEFL Score': '115'}\n",
      "{'_id': ObjectId('613f98af259aecebe0b10b41'), 'GRE Score': '321', 'TOEFL Score': '114'}\n",
      "{'_id': ObjectId('613f98af259aecebe0b10b42'), 'GRE Score': '307', 'TOEFL Score': '110'}\n",
      "{'_id': ObjectId('613f98af259aecebe0b10b43'), 'GRE Score': '309', 'TOEFL Score': '99'}\n",
      "{'_id': ObjectId('613f98af259aecebe0b10b44'), 'GRE Score': '324', 'TOEFL Score': '100'}\n",
      "{'_id': ObjectId('613f98af259aecebe0b10b45'), 'GRE Score': '326', 'TOEFL Score': '102'}\n",
      "{'_id': ObjectId('613f98af259aecebe0b10b46'), 'GRE Score': '331', 'TOEFL Score': '119'}\n",
      "{'_id': ObjectId('613f98af259aecebe0b10b47'), 'GRE Score': '327', 'TOEFL Score': '108'}\n",
      "{'_id': ObjectId('613f98af259aecebe0b10b48'), 'GRE Score': '312', 'TOEFL Score': '104'}\n",
      "{'_id': ObjectId('613f98af259aecebe0b10b49'), 'GRE Score': '308', 'TOEFL Score': '103'}\n",
      "{'_id': ObjectId('613f98af259aecebe0b10b4a'), 'GRE Score': '324', 'TOEFL Score': '111'}\n",
      "{'_id': ObjectId('613f98af259aecebe0b10b4b'), 'GRE Score': '325', 'TOEFL Score': '110'}\n",
      "{'_id': ObjectId('613f98af259aecebe0b10b4c'), 'GRE Score': '313', 'TOEFL Score': '102'}\n",
      "{'_id': ObjectId('613f98af259aecebe0b10b4d'), 'GRE Score': '312', 'TOEFL Score': '105'}\n",
      "{'_id': ObjectId('613f98af259aecebe0b10b4e'), 'GRE Score': '314', 'TOEFL Score': '107'}\n",
      "{'_id': ObjectId('613f98af259aecebe0b10b4f'), 'GRE Score': '327', 'TOEFL Score': '113'}\n",
      "{'_id': ObjectId('613f98af259aecebe0b10b50'), 'GRE Score': '308'}\n",
      "{'_id': ObjectId('613f98af259aecebe0b10b51'), 'GRE Score': '306', 'TOEFL Score': '105'}\n",
      "{'_id': ObjectId('613f98af259aecebe0b10b52'), 'GRE Score': '299', 'TOEFL Score': '96'}\n",
      "{'_id': ObjectId('613f98af259aecebe0b10b53'), 'GRE Score': '294', 'TOEFL Score': '95'}\n",
      "{'_id': ObjectId('613f98af259aecebe0b10b54'), 'GRE Score': '312', 'TOEFL Score': '99'}\n",
      "{'_id': ObjectId('613f98af259aecebe0b10b55'), 'GRE Score': '315', 'TOEFL Score': '100'}\n",
      "{'_id': ObjectId('613f98af259aecebe0b10b56'), 'GRE Score': '322', 'TOEFL Score': '110'}\n",
      "{'_id': ObjectId('613f98af259aecebe0b10b57'), 'GRE Score': '329', 'TOEFL Score': '113'}\n",
      "{'_id': ObjectId('613f98af259aecebe0b10b58'), 'GRE Score': '320', 'TOEFL Score': '101'}\n",
      "{'_id': ObjectId('613f98af259aecebe0b10b59'), 'GRE Score': '308', 'TOEFL Score': '103'}\n",
      "{'_id': ObjectId('613f98af259aecebe0b10b5a'), 'TOEFL Score': '102'}\n",
      "{'_id': ObjectId('613f98af259aecebe0b10b5b'), 'GRE Score': '311', 'TOEFL Score': '102'}\n",
      "{'_id': ObjectId('613f98af259aecebe0b10b5c'), 'GRE Score': '317', 'TOEFL Score': '110'}\n",
      "{'_id': ObjectId('613f98af259aecebe0b10b5d'), 'GRE Score': '312', 'TOEFL Score': '106'}\n",
      "{'_id': ObjectId('613f98af259aecebe0b10b5e'), 'GRE Score': '321', 'TOEFL Score': '111'}\n",
      "{'_id': ObjectId('613f98af259aecebe0b10b5f'), 'GRE Score': '340', 'TOEFL Score': '112'}\n",
      "{'_id': ObjectId('613f98af259aecebe0b10b60'), 'GRE Score': '331', 'TOEFL Score': '116'}\n",
      "{'_id': ObjectId('613f98af259aecebe0b10b61'), 'GRE Score': '336', 'TOEFL Score': '118'}\n",
      "{'_id': ObjectId('613f98af259aecebe0b10b62'), 'GRE Score': '324', 'TOEFL Score': '114'}\n",
      "{'_id': ObjectId('613f98af259aecebe0b10b63'), 'GRE Score': '314', 'TOEFL Score': '104'}\n",
      "{'_id': ObjectId('613f98af259aecebe0b10b64'), 'GRE Score': '313', 'TOEFL Score': '109'}\n",
      "{'_id': ObjectId('613f98af259aecebe0b10b65'), 'GRE Score': '307', 'TOEFL Score': '105'}\n",
      "{'_id': ObjectId('613f98af259aecebe0b10b66'), 'GRE Score': '300', 'TOEFL Score': '102'}\n",
      "{'_id': ObjectId('613f98af259aecebe0b10b67'), 'GRE Score': '302', 'TOEFL Score': '99'}\n",
      "{'_id': ObjectId('613f98af259aecebe0b10b68'), 'GRE Score': '312', 'TOEFL Score': '98'}\n",
      "{'_id': ObjectId('613f98af259aecebe0b10b69'), 'GRE Score': '316', 'TOEFL Score': '101'}\n",
      "{'_id': ObjectId('613f98af259aecebe0b10b6a'), 'GRE Score': '317', 'TOEFL Score': '100'}\n",
      "{'_id': ObjectId('613f98af259aecebe0b10b6b'), 'GRE Score': '310', 'TOEFL Score': '107'}\n",
      "{'_id': ObjectId('613f98af259aecebe0b10b6c'), 'GRE Score': '320', 'TOEFL Score': '120'}\n",
      "{'_id': ObjectId('613f98af259aecebe0b10b6d'), 'GRE Score': '330', 'TOEFL Score': '114'}\n",
      "{'_id': ObjectId('613f98af259aecebe0b10b6e'), 'GRE Score': '305', 'TOEFL Score': '112'}\n",
      "{'_id': ObjectId('613f98af259aecebe0b10b6f'), 'GRE Score': '309', 'TOEFL Score': '106'}\n",
      "{'_id': ObjectId('613f98af259aecebe0b10b70'), 'GRE Score': '319', 'TOEFL Score': '108'}\n",
      "{'_id': ObjectId('613f98af259aecebe0b10b71'), 'GRE Score': '322', 'TOEFL Score': '105'}\n",
      "{'_id': ObjectId('613f98af259aecebe0b10b72'), 'GRE Score': '323', 'TOEFL Score': '107'}\n",
      "{'_id': ObjectId('613f98af259aecebe0b10b73'), 'GRE Score': '313', 'TOEFL Score': '106'}\n",
      "{'_id': ObjectId('613f98af259aecebe0b10b74'), 'GRE Score': '321', 'TOEFL Score': '109'}\n",
      "{'_id': ObjectId('613f98af259aecebe0b10b75'), 'GRE Score': '323', 'TOEFL Score': '110'}\n",
      "{'_id': ObjectId('613f98af259aecebe0b10b76'), 'GRE Score': '325', 'TOEFL Score': '112'}\n",
      "{'_id': ObjectId('613f98af259aecebe0b10b77'), 'GRE Score': '312', 'TOEFL Score': '108'}\n",
      "{'_id': ObjectId('613f98af259aecebe0b10b78'), 'GRE Score': '308'}\n",
      "{'_id': ObjectId('613f98af259aecebe0b10b79'), 'GRE Score': '320', 'TOEFL Score': '104'}\n",
      "{'_id': ObjectId('613f98af259aecebe0b10b7a'), 'GRE Score': '328', 'TOEFL Score': '108'}\n",
      "{'_id': ObjectId('613f98af259aecebe0b10b7b'), 'GRE Score': '311', 'TOEFL Score': '107'}\n",
      "{'_id': ObjectId('613f98af259aecebe0b10b7c'), 'GRE Score': '301', 'TOEFL Score': '100'}\n",
      "{'_id': ObjectId('613f98af259aecebe0b10b7d'), 'GRE Score': '305', 'TOEFL Score': '105'}\n",
      "{'_id': ObjectId('613f98af259aecebe0b10b7e'), 'GRE Score': '308', 'TOEFL Score': '104'}\n",
      "{'_id': ObjectId('613f98af259aecebe0b10b7f'), 'GRE Score': '298', 'TOEFL Score': '101'}\n",
      "{'_id': ObjectId('613f98af259aecebe0b10b80'), 'GRE Score': '300', 'TOEFL Score': '99'}\n",
      "{'_id': ObjectId('613f98af259aecebe0b10b81'), 'GRE Score': '324', 'TOEFL Score': '111'}\n",
      "{'_id': ObjectId('613f98af259aecebe0b10b82'), 'GRE Score': '327', 'TOEFL Score': '113'}\n",
      "{'_id': ObjectId('613f98af259aecebe0b10b83'), 'GRE Score': '317', 'TOEFL Score': '106'}\n",
      "{'_id': ObjectId('613f98af259aecebe0b10b84'), 'GRE Score': '323', 'TOEFL Score': '104'}\n",
      "{'_id': ObjectId('613f98af259aecebe0b10b85'), 'GRE Score': '314', 'TOEFL Score': '107'}\n",
      "{'_id': ObjectId('613f98af259aecebe0b10b86'), 'GRE Score': '305', 'TOEFL Score': '102'}\n",
      "{'_id': ObjectId('613f98af259aecebe0b10b87'), 'GRE Score': '315', 'TOEFL Score': '104'}\n",
      "{'_id': ObjectId('613f98af259aecebe0b10b88'), 'GRE Score': '326', 'TOEFL Score': '116'}\n",
      "{'_id': ObjectId('613f98af259aecebe0b10b89'), 'GRE Score': '299', 'TOEFL Score': '100'}\n",
      "{'_id': ObjectId('613f98af259aecebe0b10b8a'), 'GRE Score': '295', 'TOEFL Score': '101'}\n",
      "{'_id': ObjectId('613f98af259aecebe0b10b8b'), 'GRE Score': '324', 'TOEFL Score': '112'}\n",
      "{'_id': ObjectId('613f98af259aecebe0b10b8c'), 'GRE Score': '297', 'TOEFL Score': '96'}\n",
      "{'_id': ObjectId('613f98af259aecebe0b10b8d'), 'GRE Score': '327', 'TOEFL Score': '113'}\n",
      "{'_id': ObjectId('613f98af259aecebe0b10b8e'), 'GRE Score': '311', 'TOEFL Score': '105'}\n",
      "{'_id': ObjectId('613f98af259aecebe0b10b8f'), 'GRE Score': '308', 'TOEFL Score': '106'}\n",
      "{'_id': ObjectId('613f98af259aecebe0b10b90'), 'GRE Score': '319', 'TOEFL Score': '108'}\n",
      "{'_id': ObjectId('613f98af259aecebe0b10b91'), 'GRE Score': '312', 'TOEFL Score': '107'}\n",
      "{'_id': ObjectId('613f98af259aecebe0b10b92'), 'GRE Score': '325', 'TOEFL Score': '111'}\n",
      "{'_id': ObjectId('613f98af259aecebe0b10b93'), 'GRE Score': '319', 'TOEFL Score': '110'}\n",
      "{'_id': ObjectId('613f98af259aecebe0b10b94'), 'GRE Score': '332', 'TOEFL Score': '118'}\n",
      "{'_id': ObjectId('613f98af259aecebe0b10b95'), 'TOEFL Score': '108'}\n",
      "{'_id': ObjectId('613f98af259aecebe0b10b96'), 'GRE Score': '324', 'TOEFL Score': '107'}\n",
      "{'_id': ObjectId('613f98af259aecebe0b10b97'), 'GRE Score': '312', 'TOEFL Score': '107'}\n",
      "{'_id': ObjectId('613f98af259aecebe0b10b98'), 'GRE Score': '326', 'TOEFL Score': '110'}\n",
      "{'_id': ObjectId('613f98af259aecebe0b10b99'), 'GRE Score': '308', 'TOEFL Score': '106'}\n",
      "{'_id': ObjectId('613f98af259aecebe0b10b9a'), 'GRE Score': '305', 'TOEFL Score': '103'}\n",
      "{'_id': ObjectId('613f98af259aecebe0b10b9b'), 'GRE Score': '295', 'TOEFL Score': '96'}\n",
      "{'_id': ObjectId('613f98af259aecebe0b10b9c'), 'GRE Score': '316', 'TOEFL Score': '98'}\n",
      "{'_id': ObjectId('613f98af259aecebe0b10b9d'), 'GRE Score': '304', 'TOEFL Score': '97'}\n",
      "{'_id': ObjectId('613f98af259aecebe0b10b9e'), 'GRE Score': '299', 'TOEFL Score': '94'}\n",
      "{'_id': ObjectId('613f98af259aecebe0b10b9f'), 'GRE Score': '302', 'TOEFL Score': '99'}\n",
      "{'_id': ObjectId('613f98af259aecebe0b10ba0'), 'GRE Score': '313', 'TOEFL Score': '101'}\n",
      "{'_id': ObjectId('613f98af259aecebe0b10ba1'), 'GRE Score': '318', 'TOEFL Score': '107'}\n",
      "{'_id': ObjectId('613f98af259aecebe0b10ba2'), 'GRE Score': '325', 'TOEFL Score': '110'}\n",
      "{'_id': ObjectId('613f98af259aecebe0b10ba3'), 'GRE Score': '303', 'TOEFL Score': '100'}\n",
      "{'_id': ObjectId('613f98af259aecebe0b10ba4'), 'GRE Score': '300', 'TOEFL Score': '102'}\n",
      "{'_id': ObjectId('613f98af259aecebe0b10ba5'), 'GRE Score': '297', 'TOEFL Score': '98'}\n",
      "{'_id': ObjectId('613f98af259aecebe0b10ba6'), 'GRE Score': '317'}\n",
      "{'_id': ObjectId('613f98af259aecebe0b10ba7'), 'GRE Score': '327', 'TOEFL Score': '109'}\n",
      "{'_id': ObjectId('613f98af259aecebe0b10ba8'), 'GRE Score': '301', 'TOEFL Score': '104'}\n",
      "{'_id': ObjectId('613f98af259aecebe0b10ba9'), 'GRE Score': '314', 'TOEFL Score': '105'}\n",
      "{'_id': ObjectId('613f98af259aecebe0b10baa'), 'GRE Score': '321', 'TOEFL Score': '107'}\n",
      "{'_id': ObjectId('613f98af259aecebe0b10bab'), 'GRE Score': '322', 'TOEFL Score': '110'}\n",
      "{'_id': ObjectId('613f98af259aecebe0b10bac'), 'GRE Score': '334', 'TOEFL Score': '116'}\n",
      "{'_id': ObjectId('613f98af259aecebe0b10bad'), 'GRE Score': '338', 'TOEFL Score': '115'}\n",
      "{'_id': ObjectId('613f98af259aecebe0b10bae'), 'GRE Score': '306', 'TOEFL Score': '103'}\n",
      "{'_id': ObjectId('613f98af259aecebe0b10baf'), 'GRE Score': '313', 'TOEFL Score': '102'}\n",
      "{'_id': ObjectId('613f98af259aecebe0b10bb0'), 'GRE Score': '330', 'TOEFL Score': '114'}\n",
      "{'_id': ObjectId('613f98af259aecebe0b10bb1'), 'GRE Score': '320', 'TOEFL Score': '104'}\n",
      "{'_id': ObjectId('613f98af259aecebe0b10bb2'), 'GRE Score': '311', 'TOEFL Score': '98'}\n",
      "{'_id': ObjectId('613f98af259aecebe0b10bb3'), 'GRE Score': '298', 'TOEFL Score': '92'}\n",
      "{'_id': ObjectId('613f98af259aecebe0b10bb4'), 'GRE Score': '301', 'TOEFL Score': '98'}\n",
      "{'_id': ObjectId('613f98af259aecebe0b10bb5'), 'GRE Score': '310', 'TOEFL Score': '103'}\n",
      "{'_id': ObjectId('613f98af259aecebe0b10bb6'), 'GRE Score': '324', 'TOEFL Score': '110'}\n",
      "{'_id': ObjectId('613f98af259aecebe0b10bb7'), 'GRE Score': '336', 'TOEFL Score': '119'}\n",
      "{'_id': ObjectId('613f98af259aecebe0b10bb8'), 'GRE Score': '321', 'TOEFL Score': '109'}\n",
      "{'_id': ObjectId('613f98af259aecebe0b10bb9'), 'GRE Score': '315', 'TOEFL Score': '105'}\n",
      "{'_id': ObjectId('613f98af259aecebe0b10bba'), 'GRE Score': '304', 'TOEFL Score': '101'}\n",
      "{'_id': ObjectId('613f98af259aecebe0b10bbb'), 'GRE Score': '297', 'TOEFL Score': '96'}\n",
      "{'_id': ObjectId('613f98af259aecebe0b10bbc'), 'GRE Score': '290', 'TOEFL Score': '100'}\n",
      "{'_id': ObjectId('613f98af259aecebe0b10bbd'), 'GRE Score': '303', 'TOEFL Score': '98'}\n",
      "{'_id': ObjectId('613f98af259aecebe0b10bbe'), 'GRE Score': '311', 'TOEFL Score': '99'}\n",
      "{'_id': ObjectId('613f98af259aecebe0b10bbf'), 'GRE Score': '322', 'TOEFL Score': '104'}\n",
      "{'_id': ObjectId('613f98af259aecebe0b10bc0'), 'GRE Score': '319', 'TOEFL Score': '105'}\n",
      "{'_id': ObjectId('613f98af259aecebe0b10bc1'), 'GRE Score': '324', 'TOEFL Score': '110'}\n",
      "{'_id': ObjectId('613f98af259aecebe0b10bc2'), 'GRE Score': '300', 'TOEFL Score': '100'}\n",
      "{'_id': ObjectId('613f98af259aecebe0b10bc3'), 'GRE Score': '340', 'TOEFL Score': '113'}\n",
      "{'_id': ObjectId('613f98af259aecebe0b10bc4'), 'GRE Score': '335', 'TOEFL Score': '117'}\n",
      "{'_id': ObjectId('613f98af259aecebe0b10bc5'), 'GRE Score': '302', 'TOEFL Score': '101'}\n",
      "{'_id': ObjectId('613f98af259aecebe0b10bc6'), 'GRE Score': '307', 'TOEFL Score': '105'}\n",
      "{'_id': ObjectId('613f98af259aecebe0b10bc7'), 'GRE Score': '296', 'TOEFL Score': '97'}\n",
      "{'_id': ObjectId('613f98af259aecebe0b10bc8'), 'GRE Score': '320', 'TOEFL Score': '108'}\n",
      "{'_id': ObjectId('613f98af259aecebe0b10bc9'), 'GRE Score': '314', 'TOEFL Score': '102'}\n",
      "{'_id': ObjectId('613f98af259aecebe0b10bca'), 'GRE Score': '318', 'TOEFL Score': '106'}\n",
      "{'_id': ObjectId('613f98af259aecebe0b10bcb'), 'GRE Score': '326', 'TOEFL Score': '112'}\n",
      "{'_id': ObjectId('613f98af259aecebe0b10bcc'), 'GRE Score': '317', 'TOEFL Score': '104'}\n",
      "{'_id': ObjectId('613f98af259aecebe0b10bcd'), 'GRE Score': '329', 'TOEFL Score': '111'}\n",
      "{'_id': ObjectId('613f98af259aecebe0b10bce'), 'GRE Score': '324', 'TOEFL Score': '110'}\n",
      "{'_id': ObjectId('613f98af259aecebe0b10bcf'), 'GRE Score': '325', 'TOEFL Score': '107'}\n",
      "{'_id': ObjectId('613f98af259aecebe0b10bd0'), 'GRE Score': '330', 'TOEFL Score': '116'}\n",
      "{'_id': ObjectId('613f98af259aecebe0b10bd1'), 'GRE Score': '312', 'TOEFL Score': '103'}\n",
      "{'_id': ObjectId('613f98af259aecebe0b10bd2'), 'GRE Score': '333', 'TOEFL Score': '117'}\n",
      "{'_id': ObjectId('613f98af259aecebe0b10bd3'), 'GRE Score': '304', 'TOEFL Score': '100'}\n",
      "{'_id': ObjectId('613f98af259aecebe0b10bd4'), 'GRE Score': '315', 'TOEFL Score': '105'}\n",
      "{'_id': ObjectId('613f98af259aecebe0b10bd5'), 'GRE Score': '324', 'TOEFL Score': '109'}\n",
      "{'_id': ObjectId('613f98af259aecebe0b10bd6'), 'GRE Score': '330', 'TOEFL Score': '116'}\n",
      "{'_id': ObjectId('613f98af259aecebe0b10bd7'), 'GRE Score': '311', 'TOEFL Score': '101'}\n",
      "{'_id': ObjectId('613f98af259aecebe0b10bd8'), 'GRE Score': '302', 'TOEFL Score': '99'}\n",
      "{'_id': ObjectId('613f98af259aecebe0b10bd9'), 'GRE Score': '322', 'TOEFL Score': '103'}\n",
      "{'_id': ObjectId('613f98af259aecebe0b10bda'), 'GRE Score': '298', 'TOEFL Score': '100'}\n",
      "{'_id': ObjectId('613f98af259aecebe0b10bdb'), 'GRE Score': '297', 'TOEFL Score': '101'}\n",
      "{'_id': ObjectId('613f98af259aecebe0b10bdc'), 'GRE Score': '300', 'TOEFL Score': '98'}\n",
      "{'_id': ObjectId('613f98af259aecebe0b10bdd'), 'GRE Score': '301', 'TOEFL Score': '96'}\n",
      "{'_id': ObjectId('613f98af259aecebe0b10bde'), 'GRE Score': '313', 'TOEFL Score': '94'}\n",
      "{'_id': ObjectId('613f98af259aecebe0b10bdf'), 'GRE Score': '314', 'TOEFL Score': '102'}\n",
      "{'_id': ObjectId('613f98af259aecebe0b10be0'), 'GRE Score': '317', 'TOEFL Score': '101'}\n",
      "{'_id': ObjectId('613f98af259aecebe0b10be1'), 'GRE Score': '321', 'TOEFL Score': '110'}\n",
      "{'_id': ObjectId('613f98af259aecebe0b10be2'), 'GRE Score': '327'}\n",
      "{'_id': ObjectId('613f98af259aecebe0b10be3'), 'GRE Score': '315', 'TOEFL Score': '104'}\n",
      "{'_id': ObjectId('613f98af259aecebe0b10be4'), 'GRE Score': '316', 'TOEFL Score': '103'}\n",
      "{'_id': ObjectId('613f98af259aecebe0b10be5'), 'TOEFL Score': '111'}\n",
      "{'_id': ObjectId('613f98af259aecebe0b10be6'), 'GRE Score': '308', 'TOEFL Score': '102'}\n",
      "{'_id': ObjectId('613f98af259aecebe0b10be7'), 'GRE Score': '299', 'TOEFL Score': '100'}\n",
      "{'_id': ObjectId('613f98af259aecebe0b10be8'), 'GRE Score': '321', 'TOEFL Score': '112'}\n",
      "{'_id': ObjectId('613f98af259aecebe0b10be9'), 'GRE Score': '322', 'TOEFL Score': '112'}\n",
      "{'_id': ObjectId('613f98af259aecebe0b10bea'), 'GRE Score': '334', 'TOEFL Score': '119'}\n",
      "{'_id': ObjectId('613f98af259aecebe0b10beb'), 'GRE Score': '325', 'TOEFL Score': '114'}\n",
      "{'_id': ObjectId('613f98af259aecebe0b10bec'), 'GRE Score': '323', 'TOEFL Score': '111'}\n",
      "{'_id': ObjectId('613f98af259aecebe0b10bed'), 'GRE Score': '312', 'TOEFL Score': '106'}\n",
      "{'_id': ObjectId('613f98af259aecebe0b10bee'), 'GRE Score': '310', 'TOEFL Score': '101'}\n",
      "{'_id': ObjectId('613f98af259aecebe0b10bef'), 'GRE Score': '316', 'TOEFL Score': '103'}\n",
      "{'_id': ObjectId('613f98af259aecebe0b10bf0'), 'GRE Score': '340', 'TOEFL Score': '115'}\n",
      "{'_id': ObjectId('613f98af259aecebe0b10bf1'), 'GRE Score': '311', 'TOEFL Score': '104'}\n",
      "{'_id': ObjectId('613f98af259aecebe0b10bf2'), 'GRE Score': '320', 'TOEFL Score': '112'}\n",
      "{'_id': ObjectId('613f98af259aecebe0b10bf3'), 'GRE Score': '324', 'TOEFL Score': '112'}\n",
      "{'_id': ObjectId('613f98af259aecebe0b10bf4'), 'GRE Score': '316', 'TOEFL Score': '111'}\n",
      "{'_id': ObjectId('613f98af259aecebe0b10bf5'), 'GRE Score': '306', 'TOEFL Score': '103'}\n",
      "{'_id': ObjectId('613f98af259aecebe0b10bf6'), 'GRE Score': '309', 'TOEFL Score': '105'}\n",
      "{'_id': ObjectId('613f98af259aecebe0b10bf7'), 'GRE Score': '310', 'TOEFL Score': '110'}\n",
      "{'_id': ObjectId('613f98af259aecebe0b10bf8'), 'GRE Score': '317', 'TOEFL Score': '106'}\n",
      "{'_id': ObjectId('613f98af259aecebe0b10bf9'), 'GRE Score': '318', 'TOEFL Score': '110'}\n",
      "{'_id': ObjectId('613f98af259aecebe0b10bfa'), 'GRE Score': '312', 'TOEFL Score': '105'}\n",
      "{'_id': ObjectId('613f98af259aecebe0b10bfb'), 'GRE Score': '305', 'TOEFL Score': '104'}\n",
      "{'_id': ObjectId('613f98af259aecebe0b10bfc'), 'GRE Score': '332', 'TOEFL Score': '112'}\n",
      "{'_id': ObjectId('613f98af259aecebe0b10bfd'), 'GRE Score': '331', 'TOEFL Score': '116'}\n",
      "{'_id': ObjectId('613f98af259aecebe0b10bfe'), 'GRE Score': '321', 'TOEFL Score': '114'}\n",
      "{'_id': ObjectId('613f98af259aecebe0b10bff'), 'GRE Score': '324', 'TOEFL Score': '113'}\n",
      "{'_id': ObjectId('613f98af259aecebe0b10c00'), 'GRE Score': '328', 'TOEFL Score': '116'}\n",
      "{'_id': ObjectId('613f98af259aecebe0b10c01'), 'GRE Score': '327', 'TOEFL Score': '118'}\n",
      "{'_id': ObjectId('613f98af259aecebe0b10c02'), 'GRE Score': '320', 'TOEFL Score': '108'}\n",
      "{'_id': ObjectId('613f98af259aecebe0b10c03'), 'GRE Score': '312', 'TOEFL Score': '109'}\n",
      "{'_id': ObjectId('613f98af259aecebe0b10c04'), 'GRE Score': '315', 'TOEFL Score': '101'}\n",
      "{'_id': ObjectId('613f98af259aecebe0b10c05'), 'GRE Score': '320', 'TOEFL Score': '112'}\n",
      "{'_id': ObjectId('613f98af259aecebe0b10c06'), 'GRE Score': '324', 'TOEFL Score': '113'}\n",
      "{'_id': ObjectId('613f98af259aecebe0b10c07'), 'GRE Score': '328', 'TOEFL Score': '116'}\n",
      "{'_id': ObjectId('613f98af259aecebe0b10c08'), 'GRE Score': '319', 'TOEFL Score': '103'}\n",
      "{'_id': ObjectId('613f98af259aecebe0b10c09'), 'TOEFL Score': '105'}\n",
      "{'_id': ObjectId('613f98af259aecebe0b10c0a'), 'GRE Score': '305', 'TOEFL Score': '102'}\n",
      "{'_id': ObjectId('613f98af259aecebe0b10c0b'), 'GRE Score': '299', 'TOEFL Score': '100'}\n",
      "{'_id': ObjectId('613f98af259aecebe0b10c0c'), 'GRE Score': '295', 'TOEFL Score': '99'}\n",
      "{'_id': ObjectId('613f98af259aecebe0b10c0d'), 'GRE Score': '312', 'TOEFL Score': '100'}\n",
      "{'_id': ObjectId('613f98af259aecebe0b10c0e'), 'GRE Score': '329', 'TOEFL Score': '113'}\n",
      "{'_id': ObjectId('613f98af259aecebe0b10c0f'), 'GRE Score': '319', 'TOEFL Score': '105'}\n",
      "{'_id': ObjectId('613f98af259aecebe0b10c10'), 'GRE Score': '301', 'TOEFL Score': '102'}\n",
      "{'_id': ObjectId('613f98af259aecebe0b10c11'), 'GRE Score': '307', 'TOEFL Score': '105'}\n",
      "{'_id': ObjectId('613f98af259aecebe0b10c12'), 'GRE Score': '304', 'TOEFL Score': '107'}\n",
      "{'_id': ObjectId('613f98af259aecebe0b10c13'), 'GRE Score': '298', 'TOEFL Score': '97'}\n",
      "{'_id': ObjectId('613f98af259aecebe0b10c14'), 'GRE Score': '305', 'TOEFL Score': '96'}\n",
      "{'_id': ObjectId('613f98af259aecebe0b10c15'), 'GRE Score': '314', 'TOEFL Score': '99'}\n",
      "{'_id': ObjectId('613f98af259aecebe0b10c16'), 'GRE Score': '318', 'TOEFL Score': '101'}\n",
      "{'_id': ObjectId('613f98af259aecebe0b10c17'), 'GRE Score': '323', 'TOEFL Score': '110'}\n",
      "{'_id': ObjectId('613f98af259aecebe0b10c18'), 'GRE Score': '326', 'TOEFL Score': '114'}\n",
      "{'_id': ObjectId('613f98af259aecebe0b10c19'), 'GRE Score': '320', 'TOEFL Score': '110'}\n",
      "{'_id': ObjectId('613f98af259aecebe0b10c1a'), 'GRE Score': '311', 'TOEFL Score': '103'}\n",
      "{'_id': ObjectId('613f98af259aecebe0b10c1b'), 'GRE Score': '327', 'TOEFL Score': '116'}\n",
      "{'_id': ObjectId('613f98af259aecebe0b10c1c'), 'GRE Score': '316', 'TOEFL Score': '102'}\n",
      "{'_id': ObjectId('613f98af259aecebe0b10c1d'), 'GRE Score': '308', 'TOEFL Score': '105'}\n",
      "{'_id': ObjectId('613f98af259aecebe0b10c1e'), 'GRE Score': '300', 'TOEFL Score': '101'}\n",
      "{'_id': ObjectId('613f98af259aecebe0b10c1f'), 'GRE Score': '304', 'TOEFL Score': '104'}\n",
      "{'_id': ObjectId('613f98af259aecebe0b10c20'), 'GRE Score': '309', 'TOEFL Score': '105'}\n",
      "{'_id': ObjectId('613f98af259aecebe0b10c21'), 'GRE Score': '318', 'TOEFL Score': '103'}\n",
      "{'_id': ObjectId('613f98af259aecebe0b10c22'), 'GRE Score': '325', 'TOEFL Score': '110'}\n",
      "{'_id': ObjectId('613f98af259aecebe0b10c23'), 'GRE Score': '321', 'TOEFL Score': '102'}\n",
      "{'_id': ObjectId('613f98af259aecebe0b10c24'), 'GRE Score': '323', 'TOEFL Score': '107'}\n",
      "{'_id': ObjectId('613f98af259aecebe0b10c25'), 'GRE Score': '328', 'TOEFL Score': '113'}\n",
      "{'_id': ObjectId('613f98af259aecebe0b10c26'), 'GRE Score': '304', 'TOEFL Score': '103'}\n",
      "{'_id': ObjectId('613f98af259aecebe0b10c27'), 'GRE Score': '317', 'TOEFL Score': '106'}\n",
      "{'_id': ObjectId('613f98af259aecebe0b10c28'), 'GRE Score': '311'}\n",
      "{'_id': ObjectId('613f98af259aecebe0b10c29'), 'GRE Score': '319', 'TOEFL Score': '102'}\n",
      "{'_id': ObjectId('613f98af259aecebe0b10c2a'), 'GRE Score': '327', 'TOEFL Score': '115'}\n",
      "{'_id': ObjectId('613f98af259aecebe0b10c2b'), 'GRE Score': '322', 'TOEFL Score': '112'}\n",
      "{'_id': ObjectId('613f98af259aecebe0b10c2c'), 'TOEFL Score': '110'}\n",
      "{'_id': ObjectId('613f98af259aecebe0b10c2d'), 'GRE Score': '307', 'TOEFL Score': '105'}\n",
      "{'_id': ObjectId('613f98af259aecebe0b10c2e'), 'GRE Score': '297', 'TOEFL Score': '99'}\n",
      "{'_id': ObjectId('613f98af259aecebe0b10c2f'), 'GRE Score': '298', 'TOEFL Score': '101'}\n",
      "{'_id': ObjectId('613f98af259aecebe0b10c30'), 'GRE Score': '300', 'TOEFL Score': '95'}\n",
      "{'_id': ObjectId('613f98af259aecebe0b10c31'), 'GRE Score': '301', 'TOEFL Score': '99'}\n",
      "{'_id': ObjectId('613f98af259aecebe0b10c32'), 'GRE Score': '332', 'TOEFL Score': '108'}\n",
      "{'_id': ObjectId('613f98af259aecebe0b10c33'), 'GRE Score': '337', 'TOEFL Score': '117'}\n",
      "{'_id': ObjectId('613f98af259aecebe0b10c34'), 'GRE Score': '330', 'TOEFL Score': '120'}\n",
      "{'_id': ObjectId('613f98af259aecebe0b10c35'), 'GRE Score': '312', 'TOEFL Score': '103'}\n",
      "{'_id': ObjectId('613f98af259aecebe0b10c36'), 'GRE Score': '327', 'TOEFL Score': '113'}\n",
      "{'_id': ObjectId('613f9c02d20a986dd4f247f1'), 'GRE Score': '337', 'TOEFL Score': '118'}\n",
      "{'_id': ObjectId('613f9f0dd20a986dd4f247f2'), 'GRE Score': '337', 'TOEFL Score': '118'}\n",
      "{'_id': ObjectId('613f9f0dd20a986dd4f247f3'), 'GRE Score': '336', 'TOEFL Score': '118'}\n",
      "{'_id': ObjectId('613f9f0dd20a986dd4f247f4'), 'GRE Score': '337', 'TOEFL Score': '118'}\n",
      "{'_id': ObjectId('613f9f0dd20a986dd4f247f5'), 'GRE Score': '334', 'TOEFL Score': '119'}\n",
      "{'_id': ObjectId('613f9f0dd20a986dd4f247f6'), 'GRE Score': '337', 'TOEFL Score': '118'}\n",
      "{'_id': ObjectId('614047f30b45039253dfb95a'), 'GRE Score': '337', 'TOEFL Score': '118'}\n",
      "{'_id': ObjectId('614047fd0b45039253dfb95b'), 'GRE Score': '337', 'TOEFL Score': '118'}\n",
      "{'_id': ObjectId('614047fd0b45039253dfb95c'), 'GRE Score': '336', 'TOEFL Score': '118'}\n",
      "{'_id': ObjectId('614047fd0b45039253dfb95d'), 'GRE Score': '337', 'TOEFL Score': '118'}\n",
      "{'_id': ObjectId('614047fd0b45039253dfb95e'), 'GRE Score': '334', 'TOEFL Score': '119'}\n",
      "{'_id': ObjectId('614047fd0b45039253dfb95f'), 'GRE Score': '337', 'TOEFL Score': '118'}\n"
     ]
    }
   ],
   "source": [
    "#retrieveing certain columns\n",
    "res_col=collections.find({},{'GRE Score','TOEFL Score'})\n",
    "for res in res_col:\n",
    "    print(res)"
   ]
  },
  {
   "cell_type": "code",
   "execution_count": 22,
   "id": "78884248",
   "metadata": {},
   "outputs": [
    {
     "name": "stdout",
     "output_type": "stream",
     "text": [
      "{'_id': ObjectId('613f98af259aecebe0b10a5c'), 'Serial No': '26', 'GRE Score': '340', 'TOEFL Score': '120', 'University Rating': '5', 'SOP': '4.5', 'LOR': '4.5', 'CGPA': '9.6', 'Research': '1', 'Chance of Admit': '0.94'}\n",
      "{'_id': ObjectId('613f98af259aecebe0b10a63'), 'Serial No': '33', 'GRE Score': '338', 'TOEFL Score': '118', 'University Rating': '4', 'SOP': '3', 'LOR': '4.5', 'CGPA': '9.4', 'Research': '1', 'Chance of Admit': '0.91'}\n",
      "{'_id': ObjectId('613f98af259aecebe0b10a64'), 'Serial No': '34', 'GRE Score': '340', 'TOEFL Score': '114', 'University Rating': '5', 'SOP': '4', 'LOR': '4', 'CGPA': '9.6', 'Research': '1', 'Chance of Admit': '0.9'}\n",
      "{'_id': ObjectId('613f98af259aecebe0b10a72'), 'Serial No': '48', 'GRE Score': '339', 'TOEFL Score': '119', 'University Rating': '5', 'SOP': '4.5', 'LOR': '4', 'CGPA': '9.7', 'Research': '0', 'Chance of Admit': '0.89'}\n",
      "{'_id': ObjectId('613f98af259aecebe0b10a94'), 'Serial No': '82', 'GRE Score': '340', 'TOEFL Score': '120', 'University Rating': '4', 'SOP': '5', 'LOR': '5', 'CGPA': '9.5', 'Research': '1', 'Chance of Admit': '0.96'}\n",
      "{'_id': ObjectId('613f98af259aecebe0b10a97'), 'Serial No': '85', 'GRE Score': '340', 'TOEFL Score': '115', 'University Rating': '5', 'SOP': '4.5', 'LOR': '4.5', 'CGPA': '9.45', 'Research': '1', 'Chance of Admit': '0.94'}\n",
      "{'_id': ObjectId('613f98af259aecebe0b10aae'), 'Serial No': '108', 'GRE Score': '338', 'TOEFL Score': '117', 'University Rating': '4', 'SOP': '3.5', 'LOR': '4.5', 'CGPA': '9.46', 'Research': '1', 'Chance of Admit': '0.91'}\n",
      "{'_id': ObjectId('613f98af259aecebe0b10ac5'), 'Serial No': '131', 'GRE Score': '339', 'TOEFL Score': '114', 'University Rating': '5', 'SOP': '4', 'LOR': '4.5', 'CGPA': '9.76', 'Research': '1', 'Chance of Admit': '0.96'}\n",
      "{'_id': ObjectId('613f98af259aecebe0b10ad2'), 'Serial No': '144', 'GRE Score': '340', 'TOEFL Score': '120', 'University Rating': '4', 'SOP': '4.5', 'LOR': '4', 'CGPA': '9.92', 'Research': '1', 'Chance of Admit': '0.97'}\n",
      "{'_id': ObjectId('613f98af259aecebe0b10ad7'), 'Serial No': '149', 'GRE Score': '339', 'TOEFL Score': '116', 'University Rating': '4', 'SOP': '4', 'LOR': '3.5', 'CGPA': '9.8', 'Research': '1', 'Chance of Admit': '0.96'}\n",
      "{'_id': ObjectId('613f98af259aecebe0b10b0d'), 'Serial No': '203', 'GRE Score': '340', 'TOEFL Score': '120', 'University Rating': '5', 'SOP': '4.5', 'LOR': '4.5', 'CGPA': '9.91', 'Research': '1', 'Chance of Admit': '0.97'}\n",
      "{'_id': ObjectId('613f98af259aecebe0b10b17'), 'Serial No': '213', 'GRE Score': '338', 'TOEFL Score': '120', 'University Rating': '4', 'SOP': '5', 'LOR': '5', 'CGPA': '9.66', 'Research': '1', 'Chance of Admit': '0.95'}\n",
      "{'_id': ObjectId('613f98af259aecebe0b10b5f'), 'Serial No': '285', 'GRE Score': '340', 'TOEFL Score': '112', 'University Rating': '4', 'SOP': '5', 'LOR': '4.5', 'CGPA': '9.66', 'Research': '1', 'Chance of Admit': '0.94'}\n",
      "{'_id': ObjectId('613f98af259aecebe0b10bad'), 'Serial No': '363', 'GRE Score': '338', 'TOEFL Score': '115', 'University Rating': '5', 'SOP': '4.5', 'LOR': '5', 'CGPA': '9.23', 'Research': '1', 'Chance of Admit': '0.91'}\n",
      "{'_id': ObjectId('613f98af259aecebe0b10bc3'), 'Serial No': '385', 'GRE Score': '340', 'TOEFL Score': '113', 'University Rating': '4', 'SOP': '5', 'LOR': '5', 'CGPA': '9.74', 'Research': '1', 'Chance of Admit': '0.96'}\n",
      "{'_id': ObjectId('613f98af259aecebe0b10bf0'), 'Serial No': '430', 'GRE Score': '340', 'TOEFL Score': '115', 'University Rating': '5', 'SOP': '5', 'LOR': '4.5', 'CGPA': '9.06', 'Research': '1', 'Chance of Admit': '0.95'}\n"
     ]
    }
   ],
   "source": [
    "my_db_query={'GRE Score':{'$gt':'337'}}\n",
    "res_GRE=collections.find(my_db_query)\n",
    "for res in res_GRE:\n",
    "    print(res)"
   ]
  },
  {
   "cell_type": "code",
   "execution_count": 24,
   "id": "0fa01eef",
   "metadata": {},
   "outputs": [
    {
     "name": "stdout",
     "output_type": "stream",
     "text": [
      "{'_id': ObjectId('613f98af259aecebe0b10a5c'), 'Serial No': '26', 'GRE Score': '340', 'TOEFL Score': '120', 'University Rating': '5', 'SOP': '4.5', 'LOR': '4.5', 'CGPA': '9.6', 'Research': '1', 'Chance of Admit': '0.94'}\n",
      "{'_id': ObjectId('613f98af259aecebe0b10a64'), 'Serial No': '34', 'GRE Score': '340', 'TOEFL Score': '114', 'University Rating': '5', 'SOP': '4', 'LOR': '4', 'CGPA': '9.6', 'Research': '1', 'Chance of Admit': '0.9'}\n",
      "{'_id': ObjectId('613f98af259aecebe0b10a94'), 'Serial No': '82', 'GRE Score': '340', 'TOEFL Score': '120', 'University Rating': '4', 'SOP': '5', 'LOR': '5', 'CGPA': '9.5', 'Research': '1', 'Chance of Admit': '0.96'}\n",
      "{'_id': ObjectId('613f98af259aecebe0b10a97'), 'Serial No': '85', 'GRE Score': '340', 'TOEFL Score': '115', 'University Rating': '5', 'SOP': '4.5', 'LOR': '4.5', 'CGPA': '9.45', 'Research': '1', 'Chance of Admit': '0.94'}\n",
      "{'_id': ObjectId('613f98af259aecebe0b10ad2'), 'Serial No': '144', 'GRE Score': '340', 'TOEFL Score': '120', 'University Rating': '4', 'SOP': '4.5', 'LOR': '4', 'CGPA': '9.92', 'Research': '1', 'Chance of Admit': '0.97'}\n",
      "{'_id': ObjectId('613f98af259aecebe0b10b0d'), 'Serial No': '203', 'GRE Score': '340', 'TOEFL Score': '120', 'University Rating': '5', 'SOP': '4.5', 'LOR': '4.5', 'CGPA': '9.91', 'Research': '1', 'Chance of Admit': '0.97'}\n",
      "{'_id': ObjectId('613f98af259aecebe0b10b5f'), 'Serial No': '285', 'GRE Score': '340', 'TOEFL Score': '112', 'University Rating': '4', 'SOP': '5', 'LOR': '4.5', 'CGPA': '9.66', 'Research': '1', 'Chance of Admit': '0.94'}\n",
      "{'_id': ObjectId('613f98af259aecebe0b10bc3'), 'Serial No': '385', 'GRE Score': '340', 'TOEFL Score': '113', 'University Rating': '4', 'SOP': '5', 'LOR': '5', 'CGPA': '9.74', 'Research': '1', 'Chance of Admit': '0.96'}\n",
      "{'_id': ObjectId('613f98af259aecebe0b10bf0'), 'Serial No': '430', 'GRE Score': '340', 'TOEFL Score': '115', 'University Rating': '5', 'SOP': '5', 'LOR': '4.5', 'CGPA': '9.06', 'Research': '1', 'Chance of Admit': '0.95'}\n",
      "{'_id': ObjectId('613f98af259aecebe0b10a72'), 'Serial No': '48', 'GRE Score': '339', 'TOEFL Score': '119', 'University Rating': '5', 'SOP': '4.5', 'LOR': '4', 'CGPA': '9.7', 'Research': '0', 'Chance of Admit': '0.89'}\n",
      "{'_id': ObjectId('613f98af259aecebe0b10ac5'), 'Serial No': '131', 'GRE Score': '339', 'TOEFL Score': '114', 'University Rating': '5', 'SOP': '4', 'LOR': '4.5', 'CGPA': '9.76', 'Research': '1', 'Chance of Admit': '0.96'}\n",
      "{'_id': ObjectId('613f98af259aecebe0b10ad7'), 'Serial No': '149', 'GRE Score': '339', 'TOEFL Score': '116', 'University Rating': '4', 'SOP': '4', 'LOR': '3.5', 'CGPA': '9.8', 'Research': '1', 'Chance of Admit': '0.96'}\n",
      "{'_id': ObjectId('613f98af259aecebe0b10a63'), 'Serial No': '33', 'GRE Score': '338', 'TOEFL Score': '118', 'University Rating': '4', 'SOP': '3', 'LOR': '4.5', 'CGPA': '9.4', 'Research': '1', 'Chance of Admit': '0.91'}\n",
      "{'_id': ObjectId('613f98af259aecebe0b10aae'), 'Serial No': '108', 'GRE Score': '338', 'TOEFL Score': '117', 'University Rating': '4', 'SOP': '3.5', 'LOR': '4.5', 'CGPA': '9.46', 'Research': '1', 'Chance of Admit': '0.91'}\n",
      "{'_id': ObjectId('613f98af259aecebe0b10b17'), 'Serial No': '213', 'GRE Score': '338', 'TOEFL Score': '120', 'University Rating': '4', 'SOP': '5', 'LOR': '5', 'CGPA': '9.66', 'Research': '1', 'Chance of Admit': '0.95'}\n",
      "{'_id': ObjectId('613f98af259aecebe0b10bad'), 'Serial No': '363', 'GRE Score': '338', 'TOEFL Score': '115', 'University Rating': '5', 'SOP': '4.5', 'LOR': '5', 'CGPA': '9.23', 'Research': '1', 'Chance of Admit': '0.91'}\n"
     ]
    }
   ],
   "source": [
    "res_gresort=collections.find(my_db_query).sort('GRE Score',-1)\n",
    "for res in res_gresort:\n",
    "    print(res)"
   ]
  },
  {
   "cell_type": "code",
   "execution_count": 25,
   "id": "967bda83",
   "metadata": {},
   "outputs": [
    {
     "name": "stdout",
     "output_type": "stream",
     "text": [
      "1\n"
     ]
    }
   ],
   "source": [
    "my_db_query2={'GRE Score':'337'}\n",
    "del_gre=collections.delete_one(my_db_query2)\n",
    "print(del_gre.deleted_count)"
   ]
  },
  {
   "cell_type": "code",
   "execution_count": 26,
   "id": "7b3b097f",
   "metadata": {},
   "outputs": [
    {
     "name": "stdout",
     "output_type": "stream",
     "text": [
      "<pymongo.results.DeleteResult object at 0x000001E2DA443340>\n"
     ]
    }
   ],
   "source": [
    "print(del_gre)"
   ]
  },
  {
   "cell_type": "code",
   "execution_count": 31,
   "id": "d9b8718b",
   "metadata": {},
   "outputs": [],
   "source": [
    "update_criteria={'GRE Score':'340'}\n",
    "new_values={'$set':{'GRE Score':'350'} }\n",
    "x_update=collections.update_many(update_criteria,new_values)\n"
   ]
  },
  {
   "cell_type": "code",
   "execution_count": 32,
   "id": "0b4b379c",
   "metadata": {},
   "outputs": [
    {
     "name": "stdout",
     "output_type": "stream",
     "text": [
      "0\n"
     ]
    }
   ],
   "source": [
    "print(x_update.modified_count)"
   ]
  },
  {
   "cell_type": "code",
   "execution_count": 33,
   "id": "9ddfdf05",
   "metadata": {},
   "outputs": [
    {
     "data": {
      "text/plain": [
       "'dlrow olleh'"
      ]
     },
     "execution_count": 33,
     "metadata": {},
     "output_type": "execute_result"
    }
   ],
   "source": [
    "x='hello world'\n",
    "x[::-1]"
   ]
  },
  {
   "cell_type": "code",
   "execution_count": null,
   "id": "07fe0368",
   "metadata": {},
   "outputs": [],
   "source": []
  }
 ],
 "metadata": {
  "kernelspec": {
   "display_name": "Python 3 (ipykernel)",
   "language": "python",
   "name": "python3"
  },
  "language_info": {
   "codemirror_mode": {
    "name": "ipython",
    "version": 3
   },
   "file_extension": ".py",
   "mimetype": "text/x-python",
   "name": "python",
   "nbconvert_exporter": "python",
   "pygments_lexer": "ipython3",
   "version": "3.8.11"
  }
 },
 "nbformat": 4,
 "nbformat_minor": 5
}
